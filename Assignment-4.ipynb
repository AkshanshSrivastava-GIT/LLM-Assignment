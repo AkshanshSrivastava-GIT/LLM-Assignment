{
 "cells": [
  {
   "cell_type": "markdown",
   "metadata": {},
   "source": [
    "### Visit python.langchain.com/docs/modules/model_io/prompts/example_selectors/ngram_overlap/ and implement n-gram overlap selector."
   ]
  },
  {
   "cell_type": "code",
   "execution_count": 1,
   "metadata": {
    "id": "ZpuLpmMNFszJ"
   },
   "outputs": [],
   "source": [
    "# # Installing Required Packages\n",
    "# !pip install langchain-chroma\n",
    "# !pip install langchain-openai\n",
    "# !pip install --upgrade langchain-community"
   ]
  },
  {
   "cell_type": "code",
   "execution_count": 2,
   "metadata": {
    "id": "U-aDwy0ME5sK"
   },
   "outputs": [],
   "source": [
    "# Importing Required Libraries\n",
    "\n",
    "from langchain_chroma import Chroma\n",
    "from langchain_community.example_selectors import NGramOverlapExampleSelector\n",
    "from langchain_core.prompts import FewShotPromptTemplate, PromptTemplate"
   ]
  },
  {
   "cell_type": "code",
   "execution_count": 3,
   "metadata": {
    "id": "1WpNPkVDHHG4"
   },
   "outputs": [],
   "source": [
    "# Defining Example Prompt and Example Input-Output Pairs\n",
    "\n",
    "example_prompt = PromptTemplate(\n",
    "    input_variables=[\"input\", \"output\"],\n",
    "    template=\"Input: {input}\\nOutput: {output}\",\n",
    ")"
   ]
  },
  {
   "cell_type": "code",
   "execution_count": 4,
   "metadata": {
    "id": "n6cnWLSQI7dE"
   },
   "outputs": [],
   "source": [
    "# Examples of a fictional translation task.\n",
    "examples = [\n",
    "    {\"input\": \"The cat is on the table.\", \"output\": \"El gato está en la mesa.\"},\n",
    "    {\"input\": \"I am going to the store.\", \"output\": \"Voy a la tienda.\"},\n",
    "    {\"input\": \"She likes to read books.\", \"output\": \"Le gusta leer libros.\"},\n",
    "    {\"input\": \"He plays football every weekend.\", \"output\": \"Él juega al fútbol todos los fines de semana.\"},\n",
    "    {\"input\": \"We are studying for the exam.\", \"output\": \"Estamos estudiando para el examen.\"},\n",
    "]\n",
    "\n",
    "# Creating an NGramOverlapExampleSelector Object\n",
    "\n",
    "example_selector = NGramOverlapExampleSelector(\n",
    "    # The examples it has available to choose from.\n",
    "    examples=examples,\n",
    "    # The PromptTemplate being used to format the examples.\n",
    "    example_prompt=example_prompt,\n",
    "    # The threshold, at which selector stops.\n",
    "    # It is set to -1.0 by default.\n",
    "    threshold=-1.0,\n",
    "    # For negative threshold:\n",
    "    # Selector sorts examples by ngram overlap score, and excludes none.\n",
    "    # For threshold greater than 1.0:\n",
    "    # Selector excludes all examples, and returns an empty list.\n",
    "    # For threshold equal to 0.0:\n",
    "    # Selector sorts examples by ngram overlap score,\n",
    "    # and excludes those with no ngram overlap with input.\n",
    ")"
   ]
  },
  {
   "cell_type": "code",
   "execution_count": 5,
   "metadata": {
    "id": "b5-sdPY4F3xL"
   },
   "outputs": [],
   "source": [
    "# Creating a FewShot Prompt Template\n",
    "\n",
    "dynamic_prompt = FewShotPromptTemplate(\n",
    "    # We provide an ExampleSelector instead of examples.\n",
    "    example_selector=example_selector,\n",
    "    example_prompt=example_prompt,\n",
    "    prefix=\"Give the Spanish translation of every input\",\n",
    "    suffix=\"Input: {sentence}\\nOutput:\",\n",
    "    input_variables=[\"sentence\"],\n",
    ")"
   ]
  },
  {
   "cell_type": "code",
   "execution_count": 6,
   "metadata": {
    "colab": {
     "base_uri": "https://localhost:8080/"
    },
    "id": "hGEWFpX1F57W",
    "outputId": "e4c7e660-03d9-4812-a90d-27217b04f5ba"
   },
   "outputs": [
    {
     "name": "stdout",
     "output_type": "stream",
     "text": [
      "Give the Spanish translation of every input\n",
      "\n",
      "Input: The cat is on the table.\n",
      "Output: El gato está en la mesa.\n",
      "\n",
      "Input: I am going to the store.\n",
      "Output: Voy a la tienda.\n",
      "\n",
      "Input: She likes to read books.\n",
      "Output: Le gusta leer libros.\n",
      "\n",
      "Input: He plays football every weekend.\n",
      "Output: Él juega al fútbol todos los fines de semana.\n",
      "\n",
      "Input: We are studying for the exam.\n",
      "Output: Estamos estudiando para el examen.\n",
      "\n",
      "Input: Max is a good dog!\n",
      "Output:\n"
     ]
    }
   ],
   "source": [
    "# Printing the Prompt\n",
    "\n",
    "print(dynamic_prompt.format(sentence=\"Max is a good dog!\"))"
   ]
  }
 ],
 "metadata": {
  "colab": {
   "provenance": []
  },
  "kernelspec": {
   "display_name": "Python 3 (ipykernel)",
   "language": "python",
   "name": "python3"
  },
  "language_info": {
   "codemirror_mode": {
    "name": "ipython",
    "version": 3
   },
   "file_extension": ".py",
   "mimetype": "text/x-python",
   "name": "python",
   "nbconvert_exporter": "python",
   "pygments_lexer": "ipython3",
   "version": "3.11.4"
  }
 },
 "nbformat": 4,
 "nbformat_minor": 1
}
